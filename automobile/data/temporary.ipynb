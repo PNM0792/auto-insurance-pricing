{
 "cells": [
  {
   "cell_type": "code",
   "execution_count": null,
   "id": "d7436818",
   "metadata": {},
   "outputs": [],
   "source": [
    "# implementation for BonusMalus: Bin\n",
    "bins = [0, 55, 65, 80, 100, 150, df_freq['BonusMalus'].max()]\n",
    "labels = ['≤55', '56–65', '66–80', '81–100', '101–150', '151+']\n",
    "\n",
    "df_freq['BonusMalus_bin'] = pd.cut(df_freq['BonusMalus'], bins=bins, labels=labels, include_lowest=True)\n",
    "\n",
    "bm_bin_counts = df_freq['BonusMalus_bin'].value_counts().sort_index()\n",
    "bm_bin_percent = df_freq['BonusMalus_bin'].value_counts(normalize=True).sort_index() * 100\n",
    "\n",
    "bonus_malus_summary = pd.DataFrame({\n",
    "    'Count': bm_bin_counts,\n",
    "    'Percent': bm_bin_percent.round(2)\n",
    "})\n",
    "\n",
    "display(bonus_malus_summary)"
   ]
  }
 ],
 "metadata": {
  "language_info": {
   "name": "python"
  }
 },
 "nbformat": 4,
 "nbformat_minor": 5
}
